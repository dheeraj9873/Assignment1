{
 "cells": [
  {
   "cell_type": "markdown",
   "id": "090c3c2b-54fc-4e9a-bc86-363822c7ab26",
   "metadata": {},
   "source": [
    "Q1. Who developed python programming language ?"
   ]
  },
  {
   "cell_type": "markdown",
   "id": "2e57de34-71f9-4fc2-9cf1-8b7fddcc4e94",
   "metadata": {},
   "source": [
    "Ans. Guido van Rossum developed the python programming language."
   ]
  },
  {
   "cell_type": "markdown",
   "id": "7dcc2604-446c-4bb6-b096-202c78a219e7",
   "metadata": {},
   "source": [
    "Q2. Which type of programming language does python support?"
   ]
  },
  {
   "cell_type": "markdown",
   "id": "b1a04b29-67de-4fa8-8aaa-82c5084a7c92",
   "metadata": {},
   "source": [
    "Ans Python is an interpreted programming language, supporting object-oriented, structured, and functional programming.\n"
   ]
  },
  {
   "cell_type": "markdown",
   "id": "9918109d-de40-48eb-8042-6c02bebfa76d",
   "metadata": {},
   "source": [
    "Q3. Is python case sensitive when dealing with identifiers ?"
   ]
  },
  {
   "cell_type": "markdown",
   "id": "8ef3c726-441d-4a91-887d-71027e405f8b",
   "metadata": {},
   "source": [
    "Ans. Yes , python is case sensitive when dealing with identifiers."
   ]
  },
  {
   "cell_type": "markdown",
   "id": "863be37c-3b4e-4b9c-a347-f77898ea770c",
   "metadata": {},
   "source": [
    "Q4. What is the correct extension of the python file? "
   ]
  },
  {
   "cell_type": "markdown",
   "id": "779c3636-427f-43d0-9635-525bda8add44",
   "metadata": {},
   "source": [
    "Ans. .py is the correct extension for Python file. "
   ]
  },
  {
   "cell_type": "markdown",
   "id": "cfaa9611-e3c1-4a49-baec-9933ef091bc1",
   "metadata": {},
   "source": [
    "Q5. Is Python code compiled or interpreted?"
   ]
  },
  {
   "cell_type": "markdown",
   "id": "44b5a2fd-f99d-4cd0-8aa6-b32574a91fdd",
   "metadata": {},
   "source": [
    "Ans . Python is a “COMPILED INTERPRETED” language. This means when the Python program is run, First Python checks for program syntax Compiles and converts it to bytecode, and directly bytecode is loaded in system memory. Then compiled bytecode interpreted from memory to execute it."
   ]
  },
  {
   "cell_type": "markdown",
   "id": "a899fd01-ddd4-4e92-8da7-9b97c653fe45",
   "metadata": {},
   "source": [
    "Q6. Name a few blocks of code used to define in python language?"
   ]
  },
  {
   "cell_type": "markdown",
   "id": "58ffa30e-7c05-459b-83f7-280519c82c75",
   "metadata": {},
   "source": [
    "Ans. The following are blocks: a module, a function body, and a class definition."
   ]
  },
  {
   "cell_type": "markdown",
   "id": "75fac2c3-b881-41bb-b606-10a58afbc2e9",
   "metadata": {},
   "source": [
    "Q7. State a character used to give a single line comment in python?"
   ]
  },
  {
   "cell_type": "markdown",
   "id": "1f33c629-9fdf-4476-9ff7-432dc182c1d3",
   "metadata": {},
   "source": [
    "Ans . We can write a single-line comment by adding a single # character before any statement or line of code."
   ]
  },
  {
   "cell_type": "markdown",
   "id": "b656ff8c-fce4-4dc0-ae81-4177f630a884",
   "metadata": {},
   "source": [
    "Q8. Mention functions which can help us to find the version of python that we are currently on?"
   ]
  },
  {
   "cell_type": "markdown",
   "id": "47fb2675-e295-455c-b8fc-222f3e688648",
   "metadata": {},
   "source": [
    "Ans. The function sys. version can help us to find the version of python that we are currently working on.\n"
   ]
  },
  {
   "cell_type": "markdown",
   "id": "f3e50731-0c98-468d-9bb6-97c65d752f7e",
   "metadata": {},
   "source": [
    "Q9.Python supports the creation of anonymous function at runtime using a construct called lambda."
   ]
  },
  {
   "cell_type": "markdown",
   "id": "22b5cf93-f6e6-4a97-a0c6-516a253ea2bd",
   "metadata": {},
   "source": [
    "Q10. What does pip stand for python?"
   ]
  },
  {
   "cell_type": "markdown",
   "id": "5e5cfcec-c1f5-43f1-b45e-bc0a2ac9a86d",
   "metadata": {},
   "source": [
    "Ans . Preferred Installer Program."
   ]
  },
  {
   "cell_type": "markdown",
   "id": "5a0ece03-c11d-44b8-9409-e250890a5885",
   "metadata": {},
   "source": [
    "Q11. Mention a few built-in functions in python?"
   ]
  },
  {
   "cell_type": "markdown",
   "id": "9d8dd935-265a-458d-bc90-91bef6136dc7",
   "metadata": {},
   "source": [
    "Ans . Int , float , str, remove, keys, values,insert , sort , pop ,len ."
   ]
  },
  {
   "cell_type": "markdown",
   "id": "b72742a1-7ae0-41ee-b965-b16131992b46",
   "metadata": {},
   "source": [
    "Q12. What is the maximum possible length of an identifier in python?"
   ]
  },
  {
   "cell_type": "markdown",
   "id": "31a2db7d-952e-40f9-ba0f-497a806dd9c7",
   "metadata": {},
   "source": [
    "Ans . 79 characters."
   ]
  },
  {
   "cell_type": "markdown",
   "id": "aec50979-ef07-43d3-93aa-c2775ab5ddaa",
   "metadata": {},
   "source": [
    "Q13. What are the benefits of using python?"
   ]
  },
  {
   "cell_type": "markdown",
   "id": "8b1386fd-d5a8-4862-b456-0c64fb96de0d",
   "metadata": {},
   "source": [
    "Ans . Benefits of using python are mentioned below:\n",
    "1.  Easy to learn.\n",
    "2.  Work with less code\n",
    "3   Open source and free\n",
    "4.    Easy integrations\n",
    "5.     Safe and secure\n",
    "6.     Easy syntax\n",
    "7.     High level language and easy readability"
   ]
  },
  {
   "cell_type": "markdown",
   "id": "d1173df4-b292-480b-a553-d55c4e676825",
   "metadata": {},
   "source": [
    "Q14. How is memory managed in python?"
   ]
  },
  {
   "cell_type": "markdown",
   "id": "72bcdd15-56fe-43e8-8caa-28628ab05760",
   "metadata": {},
   "source": [
    "Ans. Memory in Python is managed by Python private heap space. All Python objects and data structures are located in a private heap."
   ]
  },
  {
   "cell_type": "markdown",
   "id": "9b2ef55d-b57f-45ba-9f56-79ab3a177771",
   "metadata": {},
   "source": [
    "Q15. How to install python on windows and set path variables?"
   ]
  },
  {
   "cell_type": "markdown",
   "id": "c223ca24-5156-4332-a504-367a0c7c15e4",
   "metadata": {},
   "source": [
    "Ans . Go to https://www.python.org/downloads. The most recent version of Python will always appear on the \"Download\" button near the top of the page and then download and install it.\n",
    " \n",
    " To add Python to the PATH in User variables, right-click on This PC, and select Properties. Once in the properties menu, click on the Advanced system settings option. In the next window, select the Advanced tab, and select Environment Variables.\n",
    "\n",
    "Getting to the Environment Variables\n",
    "The Environment Variables menu has two distinct parts: an upper part called User variables, and a lower part named System variables. However, our focus is on the User variables in this case.\n",
    "\n",
    "\n",
    "Within the User variables menu, locate a variable called Path. Then paste the path you copied earlier in the Variable value option using Ctrl + v and click Ok.\n",
    "\n",
    "However, if you can't find that variable, you might need to create it. To do that, click on New. Next, in the Variable name form, type Path, and paste your Python path in the Variable value field.\n",
    "\n",
    "Creating a new path in Users variables\n",
    "Go back to your Python installation path folder and double-click on Scripts to open that directory. Next, copy its path from the path bar at the upper part of the windows (besides the search bar), just like you did earlier for the Python installation path.\n",
    "\n",
    "Once you've copied the Scripts path, head back to the Environment Variables. Next, select the Path variable and click on Edit. Type a semi-colon after your Python executable path and paste the Scripts path you just copied after it. Then click Ok.\n",
    "\n",
    "Add the Scripts directory path to the Users variable path\n",
    "Adding Python to the PATH With the System Variables Option\n",
    "You can add Python to the System Variables PATH as well. Although this is just an alternative, and it's not necessary if you've added it in the Users variables already.\n",
    "\n",
    "\n",
    "To use the System Variables option, follow the steps highlighted above for copying the Python path and its Scripts path. Then head back into the Environment Variables. Then, inside the System Variables segment, locate a variable called Path. Click on that variable and click on Edit.\n",
    "\n",
    "In the next window that comes up, click on New and paste the path you copied earlier in the opened space. Repeat that process for the Scripts path as well. Next, click Ok and close the Environment Variables window.\n"
   ]
  },
  {
   "cell_type": "markdown",
   "id": "39bfd36d-3b65-42a6-908b-4aae0b75bb79",
   "metadata": {},
   "source": [
    "Q16 . Is indentation required in python?"
   ]
  },
  {
   "cell_type": "markdown",
   "id": "bbd42b78-b57d-4ae9-b916-ee68836c14c8",
   "metadata": {},
   "source": [
    "Ans . Yes , indentation is required in python."
   ]
  }
 ],
 "metadata": {
  "kernelspec": {
   "display_name": "Python 3 (ipykernel)",
   "language": "python",
   "name": "python3"
  },
  "language_info": {
   "codemirror_mode": {
    "name": "ipython",
    "version": 3
   },
   "file_extension": ".py",
   "mimetype": "text/x-python",
   "name": "python",
   "nbconvert_exporter": "python",
   "pygments_lexer": "ipython3",
   "version": "3.10.8"
  }
 },
 "nbformat": 4,
 "nbformat_minor": 5
}
